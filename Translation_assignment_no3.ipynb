{
 "cells": [
  {
   "cell_type": "code",
   "execution_count": 34,
   "id": "9a662400",
   "metadata": {},
   "outputs": [],
   "source": [
    "def hinglish_translation(text):\n",
    "   \n",
    "    word_mapping = {\n",
    "        'Definitely': 'ज़रूर',\n",
    "        'share': 'अपनी प्रतिक्रिया',\n",
    "        'your': 'आपकी',\n",
    "        'feedback': 'प्रतिक्रिया',\n",
    "        'in': 'में',\n",
    "        'the': '',\n",
    "        'comment': 'कमेंट',\n",
    "        'section': 'section',\n",
    "        'So': 'तो',\n",
    "        'even': 'भी',\n",
    "        'if': 'अगर',\n",
    "        'it\\'s': 'यह',\n",
    "        'a': '',\n",
    "        'big': 'बड़ा',\n",
    "        'video': 'video',\n",
    "        'I': 'मैं',\n",
    "        'will': 'मैं',\n",
    "        'clearly': 'स्पष्ट',\n",
    "        'mention': 'उल्लेख करूँगा',\n",
    "        'all': 'सभी',\n",
    "        'products': 'products',\n",
    "        'was': 'था',\n",
    "        'waiting': 'इंतज़ार कर रहा था',\n",
    "        'for': 'के लिए',\n",
    "        'my': 'मेरा',\n",
    "        'bag': 'bag'\n",
    "    }\n",
    "\n",
    "    \n",
    "    words = text.split()\n",
    "    translated_words = [f\"{word_mapping.get(word, word)}\" for word in words]\n",
    "\n",
    "    \n",
    "    translated_words = [word for word in translated_words if word]\n",
    "\n",
    "    \n",
    "    translated_text = ' '.join(translated_words)\n",
    "\n",
    "    return translated_text\n",
    "\n",
    "\n",
    "\n"
   ]
  },
  {
   "cell_type": "code",
   "execution_count": 35,
   "id": "45b03306",
   "metadata": {},
   "outputs": [],
   "source": [
    "\n",
    "statements = [\n",
    "    \"Definitely share your feedback in the comment section.\",\n",
    "    \"So even if it's a big video, I will clearly mention all the products.\",\n",
    "    \"I was waiting for my bag.\"\n",
    "]\n"
   ]
  },
  {
   "cell_type": "code",
   "execution_count": 36,
   "id": "6d55e6ae",
   "metadata": {},
   "outputs": [
    {
     "name": "stdout",
     "output_type": "stream",
     "text": [
      "ज़रूर अपनी प्रतिक्रिया आपकी प्रतिक्रिया में कमेंट section.\n",
      "तो भी अगर यह बड़ा video, मैं मैं स्पष्ट उल्लेख करूँगा सभी products.\n",
      "मैं था इंतज़ार कर रहा था के लिए मेरा bag.\n"
     ]
    }
   ],
   "source": [
    "\n",
    "for statement in statements:\n",
    "    hinglish_translation_result = hinglish_translation(statement)\n",
    "    print(hinglish_translation_result)"
   ]
  },
  {
   "cell_type": "code",
   "execution_count": null,
   "id": "8575eb10",
   "metadata": {},
   "outputs": [],
   "source": []
  }
 ],
 "metadata": {
  "kernelspec": {
   "display_name": "Python 3 (ipykernel)",
   "language": "python",
   "name": "python3"
  },
  "language_info": {
   "codemirror_mode": {
    "name": "ipython",
    "version": 3
   },
   "file_extension": ".py",
   "mimetype": "text/x-python",
   "name": "python",
   "nbconvert_exporter": "python",
   "pygments_lexer": "ipython3",
   "version": "3.9.7"
  }
 },
 "nbformat": 4,
 "nbformat_minor": 5
}
